{
 "cells": [
  {
   "cell_type": "code",
   "execution_count": 1,
   "id": "ee5734ea",
   "metadata": {},
   "outputs": [],
   "source": [
    "import pandas as pd\n",
    "import numpy as np\n",
    "import seaborn as sns\n",
    "import matplotlib.pyplot as plt\n",
    "%matplotlib inline\n",
    "import warnings\n",
    "warnings.filterwarnings('ignore')"
   ]
  },
  {
   "cell_type": "code",
   "execution_count": null,
   "id": "eb1b2f37",
   "metadata": {},
   "outputs": [],
   "source": [
    "import pandas as pd\n",
    "import zipfile\n",
    "\n",
    "zf = zipfile.ZipFile('C:\\Users\\Reddymr2022\\Reddappa_4431-Internship\\Week-6-Presentation\\flight prediction.zip') # having First.csv zipped file.\n",
    "Car_file1 = pd.read_excel(zf.open('Old_Car_price_prediction/D2_file1.xlsx'))\n",
    "Car_file2 = pd.read_excel(zf.open('Old_Car_price_prediction/D2_file2.xlsx'))\n",
    "Car_file3 = pd.read_excel(zf.open('Old_Car_price_prediction/D2_file3.xlsx'))\n",
    "Car_file4 = pd.read_excel(zf.open('Old_Car_price_prediction/D2_target.xlsx'))"
   ]
  }
 ],
 "metadata": {
  "kernelspec": {
   "display_name": "Python 3 (ipykernel)",
   "language": "python",
   "name": "python3"
  },
  "language_info": {
   "codemirror_mode": {
    "name": "ipython",
    "version": 3
   },
   "file_extension": ".py",
   "mimetype": "text/x-python",
   "name": "python",
   "nbconvert_exporter": "python",
   "pygments_lexer": "ipython3",
   "version": "3.9.7"
  }
 },
 "nbformat": 4,
 "nbformat_minor": 5
}
